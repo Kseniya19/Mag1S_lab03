{
 "cells": [
  {
   "cell_type": "code",
   "execution_count": 1,
   "id": "e8e95c4b",
   "metadata": {},
   "outputs": [],
   "source": [
    "import numpy as np"
   ]
  },
  {
   "cell_type": "code",
   "execution_count": 2,
   "id": "3ece3726",
   "metadata": {},
   "outputs": [],
   "source": [
    "def get_alph(option):\n",
    "    if option=='eng':\n",
    "        return(list(map(chr, range(ord('a'), ord('z')+1))))\n",
    "    elif option=='rus':\n",
    "        return(list(map(chr, range(ord('а'), ord('я')+1))))"
   ]
  },
  {
   "cell_type": "code",
   "execution_count": 15,
   "id": "1f28cac5",
   "metadata": {},
   "outputs": [],
   "source": [
    "def gamma_encrypt(message: str, gamma: str):\n",
    "    alph = get_alph('eng')\n",
    "    if message.lower() not in alph:\n",
    "        alph = get_alph('rus')\n",
    "    print(alph)\n",
    "    m = len(alph)\n",
    "    def encrypt(letters_pair: tuple):\n",
    "        idx = (letters_pair[0]+1) + (letters_pair[1]+1) % m\n",
    "        if idx > m:\n",
    "            idx = idx-m\n",
    "        return idx-1\n",
    "    message_clear = list(filter(lambda s: s.lower() in alph, message))\n",
    "    gamma_clear = list(filter(lambda s: s.lower() in alph, gamma))\n",
    "    message_ind = list(map(lambda s: alph.index(s.lower()), message_clear))\n",
    "    gamma_ind = list(map(lambda s: alph.index(s.lower()), gamma_clear))\n",
    "    for i in range(len(message_ind) - len(gamma_ind)):\n",
    "        gamma_ind.append(gamma_ind[i])\n",
    "    print(f'{message.upper()} -> {message_ind}\\n{gamma.upper()} -> {gamma_ind}')\n",
    "    encrypted_ind = list(map(lambda s: encrypt(s), zip(message_ind, gamma_ind)))\n",
    "    print(f'encrypted form: {encrypted_ind}\\n')\n",
    "    return ''.join(list(map(lambda s: alph[s], encrypted_ind))).upper()"
   ]
  },
  {
   "cell_type": "code",
   "execution_count": 16,
   "id": "2daf2294",
   "metadata": {},
   "outputs": [],
   "source": [
    "def test_encryption(message: str, gamma: str):\n",
    "    print(f'encryption result: {gamma_encrypt(message, gamma)}')"
   ]
  },
  {
   "cell_type": "code",
   "execution_count": 17,
   "id": "becf5feb",
   "metadata": {},
   "outputs": [
    {
     "name": "stdout",
     "output_type": "stream",
     "text": [
      "['а', 'б', 'в', 'г', 'д', 'е', 'ж', 'з', 'и', 'й', 'к', 'л', 'м', 'н', 'о', 'п', 'р', 'с', 'т', 'у', 'ф', 'х', 'ц', 'ч', 'ш', 'щ', 'ъ', 'ы', 'ь', 'э', 'ю', 'я']\n",
      "ПРИКАЗ -> [15, 16, 8, 10, 0, 7]\n",
      "ГАММА -> [3, 0, 12, 12, 0, 3]\n",
      "encrypted form: [19, 17, 21, 23, 1, 11]\n",
      "\n",
      "encryption result: УСХЧБЛ\n"
     ]
    }
   ],
   "source": [
    "message = 'ПРИКАЗ'\n",
    "gamma = 'ГАММА'\n",
    "test_encryption(message, gamma)"
   ]
  },
  {
   "cell_type": "code",
   "execution_count": 18,
   "id": "1cae4628",
   "metadata": {},
   "outputs": [
    {
     "name": "stdout",
     "output_type": "stream",
     "text": [
      "['а', 'б', 'в', 'г', 'д', 'е', 'ж', 'з', 'и', 'й', 'к', 'л', 'м', 'н', 'о', 'п', 'р', 'с', 'т', 'у', 'ф', 'х', 'ц', 'ч', 'ш', 'щ', 'ъ', 'ы', 'ь', 'э', 'ю', 'я']\n",
      "ЗДЕСЬ МОГЛА БЫ БЫТЬ ВАША РЕКЛАМА -> [7, 4, 5, 17, 28, 12, 14, 3, 11, 0, 1, 27, 1, 27, 18, 28, 2, 0, 24, 0, 16, 5, 10, 11, 0, 12, 0]\n",
      "КОЛИЗЕЙ -> [10, 14, 11, 8, 7, 5, 9, 10, 14, 11, 8, 7, 5, 9, 10, 14, 11, 8, 7, 5, 9, 10, 14, 11, 8, 7, 5]\n",
      "encrypted form: [18, 19, 17, 26, 4, 18, 24, 14, 26, 12, 10, 3, 7, 5, 29, 11, 14, 9, 0, 6, 26, 16, 25, 23, 9, 20, 6]\n",
      "\n",
      "encryption result: ТУСЪДТШОЪМКГЗЕЭЛОЙАЖЪРЩЧЙФЖ\n"
     ]
    }
   ],
   "source": [
    "message = 'ЗДЕСЬ МОГЛА БЫ БЫТЬ ВАША РЕКЛАМА'\n",
    "gamma = 'КОЛИЗЕЙ'\n",
    "test_encryption(message, gamma)"
   ]
  },
  {
   "cell_type": "code",
   "execution_count": 14,
   "id": "bd045177",
   "metadata": {},
   "outputs": [
    {
     "name": "stdout",
     "output_type": "stream",
     "text": [
      "['a', 'b', 'c', 'd', 'e', 'f', 'g', 'h', 'i', 'j', 'k', 'l', 'm', 'n', 'o', 'p', 'q', 'r', 's', 't', 'u', 'v', 'w', 'x', 'y', 'z']\n",
      "FEEL THE RUSSIAN STYLE -> [5, 4, 4, 11, 19, 7, 4, 17, 20, 18, 18, 8, 0, 13, 18, 19, 24, 11, 4]\n",
      "HATTERS -> [7, 0, 19, 19, 4, 17, 18, 7, 0, 19, 19, 4, 17, 18, 7, 0, 19, 19, 4]\n",
      "encrypted form: [13, 5, 24, 5, 24, 25, 23, 25, 21, 12, 12, 13, 18, 6, 0, 20, 18, 5, 9]\n",
      "\n",
      "encryption result: NFYFYZXZVMMNSGAUSFJ\n"
     ]
    }
   ],
   "source": [
    "message = 'FEEL THE RUSSIAN STYLE'\n",
    "gamma = 'HATTERS'\n",
    "test_encryption(message, gamma)"
   ]
  },
  {
   "cell_type": "code",
   "execution_count": null,
   "id": "04c02c8d",
   "metadata": {},
   "outputs": [],
   "source": []
  }
 ],
 "metadata": {
  "kernelspec": {
   "display_name": "Python 3 (ipykernel)",
   "language": "python",
   "name": "python3"
  },
  "language_info": {
   "codemirror_mode": {
    "name": "ipython",
    "version": 3
   },
   "file_extension": ".py",
   "mimetype": "text/x-python",
   "name": "python",
   "nbconvert_exporter": "python",
   "pygments_lexer": "ipython3",
   "version": "3.9.13"
  }
 },
 "nbformat": 4,
 "nbformat_minor": 5
}
